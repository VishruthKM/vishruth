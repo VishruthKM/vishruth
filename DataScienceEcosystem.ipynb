{
 "cells": [
  {
   "cell_type": "markdown",
   "id": "78270f29-b40f-4749-9f97-1342236dd7f2",
   "metadata": {},
   "source": [
    " # Data Science Tools and Ecosystem"
   ]
  },
  {
   "cell_type": "markdown",
   "id": "64659a7e-ea2f-40ee-8c7f-5d5ac6d203b1",
   "metadata": {},
   "source": [
    "In this notebook, Data Science Tools and Ecosystem are summarized."
   ]
  },
  {
   "cell_type": "markdown",
   "id": "0f42fd01-d5ee-4ec2-8f5b-8fdf1d86ba3e",
   "metadata": {},
   "source": [
    " Some of the popular languages that Data Scientists use are:\n",
    "\n",
    "1. Python\n",
    "2. R\n",
    "3. SQL \n",
    "4. Javascript\n"
   ]
  },
  {
   "cell_type": "markdown",
   "id": "aaf79f15-647b-4340-9269-23a58581afe7",
   "metadata": {},
   "source": [
    "Some of the commonly used libraries used by Data Scientists include:\n",
    "\n",
    "1. numPy\n",
    "2. sciPy\n",
    "3. Keras\n",
    "4. Matplotlib"
   ]
  },
  {
   "cell_type": "markdown",
   "id": "e58a3508-71e7-47c3-9930-f6b5646db798",
   "metadata": {
    "tags": []
   },
   "source": [
    "| Data Science Tools |\n",
    "|--------------------|\n",
    "| Jupyter notebook |\n",
    "| Scikit Learn|\n",
    "|Pytorch|"
   ]
  },
  {
   "cell_type": "markdown",
   "id": "2dd4abe9-19e7-48b0-ae45-5609b2746eb8",
   "metadata": {},
   "source": [
    "### Below are a few examples of evaluating arithmetic expressions in Python"
   ]
  },
  {
   "cell_type": "code",
   "execution_count": 2,
   "id": "27fe6bef-ec6a-4df0-98e4-5530a4f05e44",
   "metadata": {
    "tags": []
   },
   "outputs": [
    {
     "data": {
      "text/plain": [
       "17"
      ]
     },
     "execution_count": 2,
     "metadata": {},
     "output_type": "execute_result"
    }
   ],
   "source": [
    "# This a simple arithmetic expression to mutiply then add integers\n",
    "(3*4)+5\n"
   ]
  },
  {
   "cell_type": "code",
   "execution_count": 7,
   "id": "272462c5-9873-4e8f-8c98-1da0b86f7f7b",
   "metadata": {
    "tags": []
   },
   "outputs": [
    {
     "data": {
      "text/plain": [
       "3.3333333333333335"
      ]
     },
     "execution_count": 7,
     "metadata": {},
     "output_type": "execute_result"
    }
   ],
   "source": [
    "# This will convert 200 minutes to hours by diving by 60\n",
    "200 / 60 "
   ]
  },
  {
   "cell_type": "markdown",
   "id": "2d8d9c42-ae8a-405a-a1e6-9e4a1c238624",
   "metadata": {},
   "source": [
    " **Objectives:**\n",
    " List popular languages for Data Science\n",
    " - Python\n",
    " - R\n",
    " - SQL\n",
    " - Javascript\n",
    " - Julia"
   ]
  },
  {
   "cell_type": "markdown",
   "id": "b246d575-9119-4bec-8e38-3250538d3bc2",
   "metadata": {},
   "source": [
    "## Author\n",
    "Vishruth"
   ]
  },
  {
   "cell_type": "code",
   "execution_count": null,
   "id": "9eacb411-76f1-4aae-8efc-bb4f3012c657",
   "metadata": {},
   "outputs": [],
   "source": []
  }
 ],
 "metadata": {
  "kernelspec": {
   "display_name": "Python",
   "language": "python",
   "name": "conda-env-python-py"
  },
  "language_info": {
   "codemirror_mode": {
    "name": "ipython",
    "version": 3
   },
   "file_extension": ".py",
   "mimetype": "text/x-python",
   "name": "python",
   "nbconvert_exporter": "python",
   "pygments_lexer": "ipython3",
   "version": "3.7.12"
  }
 },
 "nbformat": 4,
 "nbformat_minor": 5
}
